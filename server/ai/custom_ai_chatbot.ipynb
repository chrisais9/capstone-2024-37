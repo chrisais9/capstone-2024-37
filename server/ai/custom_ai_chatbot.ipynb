{
 "cells": [
  {
   "cell_type": "code",
   "execution_count": 3,
   "metadata": {},
   "outputs": [],
   "source": [
    "%%capture\n",
    "!pip install chromadb\n",
    "!pip install beautifulsoup4\n",
    "!pip install langchain\n",
    "!pip install openai\n",
    "!pip install tiktoken\n",
    "!pip install langchainhub\n",
    "!pip install sentence-transformers\n",
    "!pip install langchain-openai"
   ]
  },
  {
   "cell_type": "markdown",
   "metadata": {},
   "source": [
    "## 사용자 별 vector db 데이터 따로 사용 테스트"
   ]
  },
  {
   "cell_type": "code",
   "execution_count": 4,
   "metadata": {},
   "outputs": [],
   "source": [
    "from langchain.document_loaders import WebBaseLoader\n",
    "from langchain.text_splitter import RecursiveCharacterTextSplitter\n",
    "\n",
    "# url로 가져오기\n",
    "loader = WebBaseLoader(\"https://www.scourt.go.kr/portal/news/NewsViewAction.work?pageIndex=1&searchWord=&searchOption=&seqnum=9782&gubun=4&type=5\")\n",
    "\n",
    "# 데이터 로딩하기\n",
    "data = loader.load()\n",
    "\n",
    "# 데이터 전처리 필요\n",
    "text_splitter = RecursiveCharacterTextSplitter(chunk_size = 500, chunk_overlap = 0)\n",
    "docs = loader.load_and_split(text_splitter)"
   ]
  },
  {
   "cell_type": "code",
   "execution_count": 5,
   "metadata": {},
   "outputs": [
    {
     "name": "stderr",
     "output_type": "stream",
     "text": [
      "c:\\gitlist\\transform_text\\.conda\\Lib\\site-packages\\tqdm\\auto.py:21: TqdmWarning: IProgress not found. Please update jupyter and ipywidgets. See https://ipywidgets.readthedocs.io/en/stable/user_install.html\n",
      "  from .autonotebook import tqdm as notebook_tqdm\n"
     ]
    }
   ],
   "source": [
    "import chromadb\n",
    "from langchain_community.vectorstores import Chroma\n",
    "from langchain_community.embeddings.sentence_transformer import (\n",
    "    SentenceTransformerEmbeddings,\n",
    ")\n",
    "import uuid\n",
    "import random\n",
    "\n",
    "stf_embeddings = SentenceTransformerEmbeddings(model_name=\"all-MiniLM-L6-v2\")\n",
    "\n",
    "# ChromaDB의 PersistentClient를 생성합니다.\n",
    "persistent_client = chromadb.PersistentClient()\n",
    "# \"my_chroma_collection\"이라는 이름의 컬렉션을 가져오거나 생성합니다.\n",
    "collection = persistent_client.get_or_create_collection(\"chroma_collection\")\n",
    "\n",
    "for i, doc in enumerate(docs):\n",
    "    doc.metadata[\"chunk_id\"] = i  # Chunk ID 추가\n",
    "    # 무작위로 임의의 페이지 번호를 삽입합니다.\n",
    "    doc.metadata[\"page_number\"] = random.randint(0, 5)\n",
    "    collection.add(\n",
    "        ids=[str(uuid.uuid1())],\n",
    "        metadatas=doc.metadata,\n",
    "        documents=doc.page_content,\n",
    "    )"
   ]
  },
  {
   "cell_type": "code",
   "execution_count": 6,
   "metadata": {},
   "outputs": [
    {
     "name": "stdout",
     "output_type": "stream",
     "text": [
      "현재 저장된 Collection 의 개수는  51  개 입니다.\n"
     ]
    }
   ],
   "source": [
    "# Chroma 객체를 생성합니다.\n",
    "langchain_chroma = Chroma(\n",
    "    # PersistentClient를 전달합니다.\n",
    "    client=persistent_client,\n",
    "    # 사용할 컬렉션의 이름을 지정합니다.\n",
    "    collection_name=\"chroma_collection\",\n",
    "    # 임베딩 함수를 전달합니다.\n",
    "    embedding_function=stf_embeddings,\n",
    ")\n",
    "\n",
    "# 컬렉션의 항목 수를 출력합니다.\n",
    "print(\n",
    "    \"현재 저장된 Collection 의 개수는 \",\n",
    "    langchain_chroma._collection.count(),\n",
    "    \" 개 입니다.\",\n",
    ")"
   ]
  },
  {
   "cell_type": "code",
   "execution_count": 9,
   "metadata": {},
   "outputs": [
    {
     "name": "stdout",
     "output_type": "stream",
     "text": [
      "2. 채무자회생법 제564조 제1항 제5호는 ‘채무자가 이 법에 정하는 채무자의 의무를 위반한 때’를 면책불허가사유로 규정하고 있다. 지급불능 상태에 빠진 채무자에 대하여 경제적 재기와 갱생의 기회를 부여하여야 한다는 면책제도의 이념, 특별한 사정이 없으면 원칙적으로 면책을 허가하여야 한다고 규정하고 있는 채무자회생법 제564조 제1항의 입법취지, 파산선고를 받았음에도 면책이 불허가되는 경우 채무자가 결과적으로 입게 되는 신분상 불이익 등을 고려하면, 위 조항에서 일반적·보충적으로 규정하고 있는 ‘이 법에 정하는 채무자의 의무를 위반한 때’라 함은 그 의무 위반의 대상이나 정도를 엄격하게 제한적으로 해석할 필요가 있다.\n"
     ]
    }
   ],
   "source": [
    "from langchain_openai import OpenAIEmbeddings\n",
    "\n",
    "# OpenAIEmbeddings 를 사용\n",
    "openai_embeddings = OpenAIEmbeddings()\n",
    "# client 생성\n",
    "new_client = chromadb.EphemeralClient()\n",
    "\n",
    "\n",
    "# OpenAI 임베딩과 Chroma 클라이언트를 사용하여 문서에서 Chroma 검색 클라이언트를 생성합니다.\n",
    "openai_lc_client = Chroma.from_documents(\n",
    "    docs, openai_embeddings, client=new_client, collection_name=\"chroma_collection\"\n",
    ")\n",
    "\n",
    "query = \"채무자 관련 법에 대해 설명해줘.\"\n",
    "# 질의를 사용하여 유사도 검색을 수행합니다.\n",
    "docs = openai_lc_client.similarity_search(query)\n",
    "# 검색 결과에서 첫 번째 문서의 내용을 출력합니다.\n",
    "print(docs[0].page_content)"
   ]
  },
  {
   "cell_type": "markdown",
   "metadata": {},
   "source": [
    "## 결과 테스트"
   ]
  },
  {
   "cell_type": "code",
   "execution_count": 8,
   "metadata": {},
   "outputs": [],
   "source": [
    "import os\n",
    "os.environ[\"OPENAI_API_KEY\"] = \"\""
   ]
  },
  {
   "cell_type": "code",
   "execution_count": 10,
   "metadata": {},
   "outputs": [],
   "source": [
    "from langchain.agents.agent_toolkits import create_retriever_tool\n",
    "\n",
    "retriever = langchain_chroma.as_retriever() # 리트리버 초기화\n",
    "\n",
    "tool = create_retriever_tool(\n",
    "retriever,\n",
    "\"cusomter_service\",\n",
    "\"Searches and returns documents regarding the customer service guide.\",\n",
    ")\n",
    "\n",
    "tools = [tool]"
   ]
  },
  {
   "cell_type": "code",
   "execution_count": 11,
   "metadata": {},
   "outputs": [
    {
     "name": "stderr",
     "output_type": "stream",
     "text": [
      "c:\\gitlist\\transform_text\\.conda\\Lib\\site-packages\\langchain_core\\_api\\deprecation.py:117: LangChainDeprecationWarning: The class `langchain_community.chat_models.openai.ChatOpenAI` was deprecated in langchain-community 0.0.10 and will be removed in 0.2.0. An updated version of the class exists in the langchain-openai package and should be used instead. To use it run `pip install -U langchain-openai` and import as `from langchain_openai import ChatOpenAI`.\n",
      "  warn_deprecated(\n"
     ]
    }
   ],
   "source": [
    "from langchain.chat_models import ChatOpenAI\n",
    "llm = ChatOpenAI()\n",
    "\n",
    "memory_key = \"history\"\n",
    "\n",
    "from langchain.agents.openai_functions_agent.agent_token_buffer_memory import (\n",
    "    AgentTokenBufferMemory,\n",
    ")\n",
    "\n",
    "memory = AgentTokenBufferMemory(memory_key=memory_key, llm=llm)"
   ]
  },
  {
   "cell_type": "code",
   "execution_count": 12,
   "metadata": {},
   "outputs": [
    {
     "name": "stderr",
     "output_type": "stream",
     "text": [
      "c:\\gitlist\\transform_text\\.conda\\Lib\\site-packages\\langchain_core\\_api\\deprecation.py:117: LangChainDeprecationWarning: The class `langchain.agents.openai_functions_agent.base.OpenAIFunctionsAgent` was deprecated in langchain 0.1.0 and will be removed in 0.2.0. Use create_openai_functions_agent instead.\n",
      "  warn_deprecated(\n"
     ]
    }
   ],
   "source": [
    "# LLM 셋업하기 \n",
    "\n",
    "from langchain.agents.openai_functions_agent.base import OpenAIFunctionsAgent\n",
    "from langchain.schema.messages import SystemMessage\n",
    "from langchain.prompts import MessagesPlaceholder\n",
    "\n",
    "# LLM이 어떤 행동을 해야하는지 알려주는 프롬프트 \n",
    "system_message = SystemMessage(\n",
    "    content=(\n",
    "        \"You are a nice customer service agent.\"\n",
    "        \"Do your best to answer the questions.\"\n",
    "        \"Feel free to use any tools available to look up \"\n",
    "        \"You provide a service that provides answers to questions\"\n",
    "        \"relevant information, only if necessary\"\n",
    "        # 할루시네이션.\n",
    "        \"If you don't know the answer, just say that you don't know. Don't try to make up an answer.\"\n",
    "        # 한국어\n",
    "        \"Make sure to answer in Korean.\"\n",
    "    )\n",
    ")\n",
    "\n",
    "# 위에서 만든 프롬프트를 바탕으로 LLM에게 줄 프롬프트 형식 셋업 \n",
    "prompt = OpenAIFunctionsAgent.create_prompt(\n",
    "    system_message=system_message,\n",
    "    extra_prompt_messages=[MessagesPlaceholder(variable_name=memory_key)],\n",
    ")\n",
    "\n",
    "# 위에서 만든 llm, tools, prompt를 바탕으로 에이전트 만들어주기 \n",
    "agent = OpenAIFunctionsAgent(llm=llm, tools=tools, prompt=prompt)"
   ]
  },
  {
   "cell_type": "code",
   "execution_count": 13,
   "metadata": {},
   "outputs": [
    {
     "name": "stderr",
     "output_type": "stream",
     "text": [
      "c:\\gitlist\\transform_text\\.conda\\Lib\\site-packages\\langchain_core\\_api\\deprecation.py:117: LangChainDeprecationWarning: The function `__call__` was deprecated in LangChain 0.1.0 and will be removed in 0.2.0. Use invoke instead.\n",
      "  warn_deprecated(\n"
     ]
    },
    {
     "name": "stdout",
     "output_type": "stream",
     "text": [
      "\n",
      "\n",
      "\u001b[1m> Entering new AgentExecutor chain...\u001b[0m\n",
      "\u001b[32;1m\u001b[1;3m안녕하세요! 궁금하신 사항이 있으신가요? 무엇을 도와드릴까요?\u001b[0m\n",
      "\n",
      "\u001b[1m> Finished chain.\u001b[0m\n",
      "{'input': '안녕하세요', 'history': [HumanMessage(content='안녕하세요'), AIMessage(content='안녕하세요! 궁금하신 사항이 있으신가요? 무엇을 도와드릴까요?')], 'output': '안녕하세요! 궁금하신 사항이 있으신가요? 무엇을 도와드릴까요?', 'intermediate_steps': []}\n"
     ]
    }
   ],
   "source": [
    "from langchain.agents import AgentExecutor\n",
    "\n",
    "agent_executor = AgentExecutor(\n",
    "agent=agent,\n",
    "tools=tools,\n",
    "memory=memory,\n",
    "verbose=True,\n",
    "return_intermediate_steps=True,\n",
    ")\n",
    "\n",
    "result = agent_executor({\"input\": \"안녕하세요\"})\n",
    "print(result)"
   ]
  },
  {
   "cell_type": "code",
   "execution_count": 16,
   "metadata": {},
   "outputs": [
    {
     "name": "stdout",
     "output_type": "stream",
     "text": [
      "\n",
      "\n",
      "\u001b[1m> Entering new AgentExecutor chain...\u001b[0m\n",
      "\u001b[32;1m\u001b[1;3m\n",
      "Invoking: `cusomter_service` with `{'query': '채무자 법'}`\n",
      "\n",
      "\n",
      "\u001b[0m\u001b[36;1m\u001b[1;3m1. 채무자회생법 제564조 제1항 제1호, 제658조, 제321조에 따르면, 채무자는 파산관재인·감사위원 또는 채권자집회(이하 ‘파산관재인 등’이라 한다)의 요청이 있으면 ‘파산에 관하여 필요한 설명’을 하여야 하고, 채무자가 정당한 사유 없이 설명을 하지 않거나 허위의 설명을 한 때에는 설명의무위반죄로 처벌하며, 채무자에게 설명의무위반죄에 해당하는 행위가 인정되면 면책불허가사유에 해당한다.\n",
      "\n",
      "1. 채무자회생법 제564조 제1항 제1호, 제658조, 제321조에 따르면, 채무자는 파산관재인·감사위원 또는 채권자집회(이하 ‘파산관재인 등’이라 한다)의 요청이 있으면 ‘파산에 관하여 필요한 설명’을 하여야 하고, 채무자가 정당한 사유 없이 설명을 하지 않거나 허위의 설명을 한 때에는 설명의무위반죄로 처벌하며, 채무자에게 설명의무위반죄에 해당하는 행위가 인정되면 면책불허가사유에 해당한다.\n",
      "\n",
      "1. 채무자회생법 제564조 제1항 제1호, 제658조, 제321조에 따르면, 채무자는 파산관재인·감사위원 또는 채권자집회(이하 ‘파산관재인 등’이라 한다)의 요청이 있으면 ‘파산에 관하여 필요한 설명’을 하여야 하고, 채무자가 정당한 사유 없이 설명을 하지 않거나 허위의 설명을 한 때에는 설명의무위반죄로 처벌하며, 채무자에게 설명의무위반죄에 해당하는 행위가 인정되면 면책불허가사유에 해당한다.\n",
      "\n",
      "☞  채무자는 1942년생으로 아들의 거주지에서 채무자와 배우자의 노령연금 및 아들의 수입에 의존하여 생활한다는 내용을 기재한 파산·면책신청서류를 제출하였고, 파산관재인은 채무자에게 “① 채무자의 3년간 직업이력과 소득 설명, ② 가계수지표를 현실적으로 작성하여 제출, ③ 자녀의 소득자료, 생활비 통장내역 제출, ④ 채무자와 배우자의 보험가입조회서 제출, ⑤ 채무자의 자녀들에게 과세된 다수의 부동산에 관한 등기부등본, 공시지가확인서, 차량의 경우 자동차등록원부, 시세확인서, 구입자금 출처 제출” 등에 대한 설명 및 자료제출을 요청하였음. 채무자는 파산관재인의 요청에 의해 일부 자료를 제출하였으나, 구체적인 구입자금 출처는 제출하지 않았음. 또한 채무자는 이후 채권자집회 및 의견청취기일에 3차례 불출석하였음\u001b[0m\u001b[32;1m\u001b[1;3m채무자 법에 대해 알려드리겠습니다. 채무자회생법에 따르면, 채무자는 파산관재인, 감사위원 또는 채권자집회의 요청에 따라 파산에 관한 필요한 설명을 해야 합니다. 채무자가 정당한 이유 없이 설명을 거부하거나 허위로 설명할 경우, 설명의무위반죄로 처벌될 수 있습니다. 또한, 채무자가 자료를 일부 제출했지만 구체적인 구입자금 출처를 제출하지 않았고, 채무자가 채권자집회 및 의견청취기일에 불출석한 사례가 있습니다.\u001b[0m\n",
      "\n",
      "\u001b[1m> Finished chain.\u001b[0m\n",
      "\n",
      "{'input': '채무자 법에 대해 알려줘', 'history': [HumanMessage(content='안녕하세요'), AIMessage(content='안녕하세요! 궁금하신 사항이 있으신가요? 무엇을 도와드릴까요?'), HumanMessage(content='채무자 법에 대해 알려줘'), AIMessage(content='', additional_kwargs={'function_call': {'arguments': '{\"query\":\"채무자 법\"}', 'name': 'cusomter_service'}}, response_metadata={'token_usage': {'completion_tokens': 24, 'prompt_tokens': 199, 'total_tokens': 223}, 'model_name': 'gpt-3.5-turbo', 'system_fingerprint': 'fp_b28b39ffa8', 'finish_reason': 'function_call', 'logprobs': None}), FunctionMessage(content='1. 채무자회생법 제564조 제1항 제1호, 제658조, 제321조에 따르면, 채무자는 파산관재인·감사위원 또는 채권자집회(이하 ‘파산관재인 등’이라 한다)의 요청이 있으면 ‘파산에 관하여 필요한 설명’을 하여야 하고, 채무자가 정당한 사유 없이 설명을 하지 않거나 허위의 설명을 한 때에는 설명의무위반죄로 처벌하며, 채무자에게 설명의무위반죄에 해당하는 행위가 인정되면 면책불허가사유에 해당한다.\\n\\n1. 채무자회생법 제564조 제1항 제1호, 제658조, 제321조에 따르면, 채무자는 파산관재인·감사위원 또는 채권자집회(이하 ‘파산관재인 등’이라 한다)의 요청이 있으면 ‘파산에 관하여 필요한 설명’을 하여야 하고, 채무자가 정당한 사유 없이 설명을 하지 않거나 허위의 설명을 한 때에는 설명의무위반죄로 처벌하며, 채무자에게 설명의무위반죄에 해당하는 행위가 인정되면 면책불허가사유에 해당한다.\\n\\n1. 채무자회생법 제564조 제1항 제1호, 제658조, 제321조에 따르면, 채무자는 파산관재인·감사위원 또는 채권자집회(이하 ‘파산관재인 등’이라 한다)의 요청이 있으면 ‘파산에 관하여 필요한 설명’을 하여야 하고, 채무자가 정당한 사유 없이 설명을 하지 않거나 허위의 설명을 한 때에는 설명의무위반죄로 처벌하며, 채무자에게 설명의무위반죄에 해당하는 행위가 인정되면 면책불허가사유에 해당한다.\\n\\n☞\\xa0 채무자는 1942년생으로 아들의 거주지에서 채무자와 배우자의 노령연금 및 아들의 수입에 의존하여 생활한다는 내용을 기재한 파산·면책신청서류를 제출하였고, 파산관재인은 채무자에게 “① 채무자의 3년간 직업이력과 소득 설명, ② 가계수지표를 현실적으로 작성하여 제출, ③ 자녀의 소득자료, 생활비 통장내역 제출, ④ 채무자와 배우자의 보험가입조회서 제출, ⑤ 채무자의 자녀들에게 과세된 다수의 부동산에 관한 등기부등본, 공시지가확인서, 차량의 경우 자동차등록원부, 시세확인서, 구입자금 출처 제출” 등에 대한 설명 및 자료제출을 요청하였음. 채무자는 파산관재인의 요청에 의해 일부 자료를 제출하였으나, 구체적인 구입자금 출처는 제출하지 않았음. 또한 채무자는 이후 채권자집회 및 의견청취기일에 3차례 불출석하였음', name='cusomter_service'), AIMessage(content='채무자 법은 채무자회생법에 관한 것으로, 채무자는 파산관재인, 감사위원 또는 채권자집회의 요청에 따라 파산에 관한 필요한 설명을 해야 합니다. 만약 채무자가 이를 거부하거나 허위로 설명할 경우, 설명의무위반죄로 처벌될 수 있습니다. 또한, 채무자가 파산관재인의 요청에 의해 자료를 일부 제출하였지만, 구체적인 구입자금 출처를 제출하지 않았고, 채무자가 채권자집회 및 의견청취기일에 불출석한 사례가 있습니다.'), HumanMessage(content='채무자 법에 대해 알려줘'), AIMessage(content='', additional_kwargs={'function_call': {'arguments': '{\"query\":\"채무자 법\"}', 'name': 'cusomter_service'}}, response_metadata={'token_usage': {'completion_tokens': 24, 'prompt_tokens': 1562, 'total_tokens': 1586}, 'model_name': 'gpt-3.5-turbo', 'system_fingerprint': 'fp_b28b39ffa8', 'finish_reason': 'function_call', 'logprobs': None}), FunctionMessage(content='1. 채무자회생법 제564조 제1항 제1호, 제658조, 제321조에 따르면, 채무자는 파산관재인·감사위원 또는 채권자집회(이하 ‘파산관재인 등’이라 한다)의 요청이 있으면 ‘파산에 관하여 필요한 설명’을 하여야 하고, 채무자가 정당한 사유 없이 설명을 하지 않거나 허위의 설명을 한 때에는 설명의무위반죄로 처벌하며, 채무자에게 설명의무위반죄에 해당하는 행위가 인정되면 면책불허가사유에 해당한다.\\n\\n1. 채무자회생법 제564조 제1항 제1호, 제658조, 제321조에 따르면, 채무자는 파산관재인·감사위원 또는 채권자집회(이하 ‘파산관재인 등’이라 한다)의 요청이 있으면 ‘파산에 관하여 필요한 설명’을 하여야 하고, 채무자가 정당한 사유 없이 설명을 하지 않거나 허위의 설명을 한 때에는 설명의무위반죄로 처벌하며, 채무자에게 설명의무위반죄에 해당하는 행위가 인정되면 면책불허가사유에 해당한다.\\n\\n1. 채무자회생법 제564조 제1항 제1호, 제658조, 제321조에 따르면, 채무자는 파산관재인·감사위원 또는 채권자집회(이하 ‘파산관재인 등’이라 한다)의 요청이 있으면 ‘파산에 관하여 필요한 설명’을 하여야 하고, 채무자가 정당한 사유 없이 설명을 하지 않거나 허위의 설명을 한 때에는 설명의무위반죄로 처벌하며, 채무자에게 설명의무위반죄에 해당하는 행위가 인정되면 면책불허가사유에 해당한다.\\n\\n☞\\xa0 채무자는 1942년생으로 아들의 거주지에서 채무자와 배우자의 노령연금 및 아들의 수입에 의존하여 생활한다는 내용을 기재한 파산·면책신청서류를 제출하였고, 파산관재인은 채무자에게 “① 채무자의 3년간 직업이력과 소득 설명, ② 가계수지표를 현실적으로 작성하여 제출, ③ 자녀의 소득자료, 생활비 통장내역 제출, ④ 채무자와 배우자의 보험가입조회서 제출, ⑤ 채무자의 자녀들에게 과세된 다수의 부동산에 관한 등기부등본, 공시지가확인서, 차량의 경우 자동차등록원부, 시세확인서, 구입자금 출처 제출” 등에 대한 설명 및 자료제출을 요청하였음. 채무자는 파산관재인의 요청에 의해 일부 자료를 제출하였으나, 구체적인 구입자금 출처는 제출하지 않았음. 또한 채무자는 이후 채권자집회 및 의견청취기일에 3차례 불출석하였음', name='cusomter_service'), AIMessage(content='채무자 법에 대해 알려드리겠습니다. 채무자회생법에 따르면, 채무자는 파산관재인, 감사위원 또는 채권자집회의 요청에 따라 파산에 관한 필요한 설명을 해야 합니다. 채무자가 정당한 이유 없이 설명을 거부하거나 허위로 설명할 경우, 설명의무위반죄로 처벌될 수 있습니다. 또한, 채무자가 자료를 일부 제출했지만 구체적인 구입자금 출처를 제출하지 않았고, 채무자가 채권자집회 및 의견청취기일에 불출석한 사례가 있습니다.')], 'output': '채무자 법에 대해 알려드리겠습니다. 채무자회생법에 따르면, 채무자는 파산관재인, 감사위원 또는 채권자집회의 요청에 따라 파산에 관한 필요한 설명을 해야 합니다. 채무자가 정당한 이유 없이 설명을 거부하거나 허위로 설명할 경우, 설명의무위반죄로 처벌될 수 있습니다. 또한, 채무자가 자료를 일부 제출했지만 구체적인 구입자금 출처를 제출하지 않았고, 채무자가 채권자집회 및 의견청취기일에 불출석한 사례가 있습니다.', 'intermediate_steps': [(AgentActionMessageLog(tool='cusomter_service', tool_input={'query': '채무자 법'}, log=\"\\nInvoking: `cusomter_service` with `{'query': '채무자 법'}`\\n\\n\\n\", message_log=[AIMessage(content='', additional_kwargs={'function_call': {'arguments': '{\"query\":\"채무자 법\"}', 'name': 'cusomter_service'}}, response_metadata={'token_usage': {'completion_tokens': 24, 'prompt_tokens': 1562, 'total_tokens': 1586}, 'model_name': 'gpt-3.5-turbo', 'system_fingerprint': 'fp_b28b39ffa8', 'finish_reason': 'function_call', 'logprobs': None})]), '1. 채무자회생법 제564조 제1항 제1호, 제658조, 제321조에 따르면, 채무자는 파산관재인·감사위원 또는 채권자집회(이하 ‘파산관재인 등’이라 한다)의 요청이 있으면 ‘파산에 관하여 필요한 설명’을 하여야 하고, 채무자가 정당한 사유 없이 설명을 하지 않거나 허위의 설명을 한 때에는 설명의무위반죄로 처벌하며, 채무자에게 설명의무위반죄에 해당하는 행위가 인정되면 면책불허가사유에 해당한다.\\n\\n1. 채무자회생법 제564조 제1항 제1호, 제658조, 제321조에 따르면, 채무자는 파산관재인·감사위원 또는 채권자집회(이하 ‘파산관재인 등’이라 한다)의 요청이 있으면 ‘파산에 관하여 필요한 설명’을 하여야 하고, 채무자가 정당한 사유 없이 설명을 하지 않거나 허위의 설명을 한 때에는 설명의무위반죄로 처벌하며, 채무자에게 설명의무위반죄에 해당하는 행위가 인정되면 면책불허가사유에 해당한다.\\n\\n1. 채무자회생법 제564조 제1항 제1호, 제658조, 제321조에 따르면, 채무자는 파산관재인·감사위원 또는 채권자집회(이하 ‘파산관재인 등’이라 한다)의 요청이 있으면 ‘파산에 관하여 필요한 설명’을 하여야 하고, 채무자가 정당한 사유 없이 설명을 하지 않거나 허위의 설명을 한 때에는 설명의무위반죄로 처벌하며, 채무자에게 설명의무위반죄에 해당하는 행위가 인정되면 면책불허가사유에 해당한다.\\n\\n☞\\xa0 채무자는 1942년생으로 아들의 거주지에서 채무자와 배우자의 노령연금 및 아들의 수입에 의존하여 생활한다는 내용을 기재한 파산·면책신청서류를 제출하였고, 파산관재인은 채무자에게 “① 채무자의 3년간 직업이력과 소득 설명, ② 가계수지표를 현실적으로 작성하여 제출, ③ 자녀의 소득자료, 생활비 통장내역 제출, ④ 채무자와 배우자의 보험가입조회서 제출, ⑤ 채무자의 자녀들에게 과세된 다수의 부동산에 관한 등기부등본, 공시지가확인서, 차량의 경우 자동차등록원부, 시세확인서, 구입자금 출처 제출” 등에 대한 설명 및 자료제출을 요청하였음. 채무자는 파산관재인의 요청에 의해 일부 자료를 제출하였으나, 구체적인 구입자금 출처는 제출하지 않았음. 또한 채무자는 이후 채권자집회 및 의견청취기일에 3차례 불출석하였음')]}\n"
     ]
    }
   ],
   "source": [
    "result = agent_executor({\"input\": \"채무자 법에 대해 알려줘\"})\n",
    "print()\n",
    "print(result)"
   ]
  }
 ],
 "metadata": {
  "kernelspec": {
   "display_name": "Python 3",
   "language": "python",
   "name": "python3"
  },
  "language_info": {
   "codemirror_mode": {
    "name": "ipython",
    "version": 3
   },
   "file_extension": ".py",
   "mimetype": "text/x-python",
   "name": "python",
   "nbconvert_exporter": "python",
   "pygments_lexer": "ipython3",
   "version": "3.11.8"
  }
 },
 "nbformat": 4,
 "nbformat_minor": 2
}
